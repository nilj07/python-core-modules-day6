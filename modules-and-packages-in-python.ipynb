{
 "cells": [
  {
   "cell_type": "markdown",
   "id": "bf96063d-7fc3-432c-af03-e6ac16f7f66a",
   "metadata": {},
   "source": [
    "# modules in python------"
   ]
  },
  {
   "cell_type": "code",
   "execution_count": 2,
   "id": "c91d779b-3fbf-4d1e-afa1-bba2855a0b2a",
   "metadata": {},
   "outputs": [],
   "source": [
    "import camelcase # it gives us error cause we didnt install this package"
   ]
  },
  {
   "cell_type": "markdown",
   "id": "c4242f6c-bdb9-4282-8192-86837607d53c",
   "metadata": {},
   "source": [
    " installing camelcase package"
   ]
  },
  {
   "cell_type": "code",
   "execution_count": 18,
   "id": "c6221308-845f-4383-894c-cef7200d4bed",
   "metadata": {},
   "outputs": [
    {
     "name": "stdout",
     "output_type": "stream",
     "text": [
      "Defaulting to user installation because normal site-packages is not writeable\n",
      "Requirement already satisfied: camelcase in c:\\users\\pranali\\appdata\\roaming\\python\\python312\\site-packages (0.2)\n",
      "Note: you may need to restart the kernel to use updated packages.\n"
     ]
    }
   ],
   "source": [
    "pip install camelcase"
   ]
  },
  {
   "cell_type": "code",
   "execution_count": 16,
   "id": "f4ddc76a-4f64-4c55-ad06-443c37678641",
   "metadata": {},
   "outputs": [],
   "source": [
    "import camelcase"
   ]
  },
  {
   "cell_type": "code",
   "execution_count": 17,
   "id": "fdc54486-3016-47b9-b975-38debffe2444",
   "metadata": {},
   "outputs": [
    {
     "name": "stdout",
     "output_type": "stream",
     "text": [
      "This is a Sentence That Needs CamelCasing!\n"
     ]
    }
   ],
   "source": [
    "from camelcase import CamelCase\n",
    "c = CamelCase()\n",
    "s = 'this is a sentence that needs CamelCasing!'\n",
    "print(c.hump(s))\n",
    "# This is a Sentence That Needs CamelCasing!"
   ]
  },
  {
   "cell_type": "code",
   "execution_count": 4,
   "id": "cbc56221-87c7-41eb-a1de-ce0fe187e3a4",
   "metadata": {},
   "outputs": [],
   "source": [
    "# importing local package*******************"
   ]
  },
  {
   "cell_type": "code",
   "execution_count": 9,
   "id": "47e7c60a-07dc-4dee-a542-68099787154e",
   "metadata": {},
   "outputs": [],
   "source": [
    "from package import module"
   ]
  },
  {
   "cell_type": "code",
   "execution_count": 11,
   "id": "b9fded81-5b8d-4edb-9e14-ffab95a57091",
   "metadata": {},
   "outputs": [
    {
     "name": "stdout",
     "output_type": "stream",
     "text": [
      "62\n"
     ]
    }
   ],
   "source": [
    "print(module.add(10,52))"
   ]
  },
  {
   "cell_type": "code",
   "execution_count": 12,
   "id": "a8e87772-e350-4fb4-81f1-1be939b5178e",
   "metadata": {},
   "outputs": [
    {
     "name": "stdout",
     "output_type": "stream",
     "text": [
      "40\n"
     ]
    }
   ],
   "source": [
    "print(module.sub(50,10))"
   ]
  },
  {
   "cell_type": "code",
   "execution_count": 14,
   "id": "2b0d3523-e110-4f3a-acb4-2d14d3ba4455",
   "metadata": {},
   "outputs": [
    {
     "name": "stdout",
     "output_type": "stream",
     "text": [
      "800\n"
     ]
    }
   ],
   "source": [
    "print(module.multi(10,80))"
   ]
  },
  {
   "cell_type": "markdown",
   "id": "c5a4a12c-69e1-4c99-a421-4bc71ffd7882",
   "metadata": {},
   "source": [
    "# exploring different packages-"
   ]
  },
  {
   "cell_type": "code",
   "execution_count": 306,
   "id": "ed6adb06-ef41-4007-bbc1-9be5cfcb57ad",
   "metadata": {},
   "outputs": [],
   "source": [
    "import os"
   ]
  },
  {
   "cell_type": "code",
   "execution_count": 311,
   "id": "d7320628-da85-48fe-8f36-93d8ac9a6e42",
   "metadata": {},
   "outputs": [
    {
     "name": "stdout",
     "output_type": "stream",
     "text": [
      "C:\\Users\\Pranali\\Desktop\\python\n"
     ]
    }
   ],
   "source": [
    "#gives path of current file  (get current working directory)\n",
    "path = os.getcwd()\n",
    "print(path)"
   ]
  },
  {
   "cell_type": "code",
   "execution_count": null,
   "id": "77dd8b06-d46c-485b-9435-bc05431cec60",
   "metadata": {},
   "outputs": [],
   "source": []
  },
  {
   "cell_type": "code",
   "execution_count": 308,
   "id": "14b72e0d-7061-4d57-8b72-00e0003215c4",
   "metadata": {},
   "outputs": [],
   "source": [
    "# change path of current directory\n",
    "os.chdir(r'C:\\Users\\Pranali\\Desktop\\python')"
   ]
  },
  {
   "cell_type": "code",
   "execution_count": 309,
   "id": "3595ef55-c9d8-40f1-937c-5fae5421373c",
   "metadata": {},
   "outputs": [
    {
     "name": "stdout",
     "output_type": "stream",
     "text": [
      "C:\\Users\\Pranali\\Desktop\\python\n"
     ]
    }
   ],
   "source": [
    "print(path)"
   ]
  },
  {
   "cell_type": "code",
   "execution_count": null,
   "id": "0aba5d79-66c6-4f1b-bf0d-fd194e43142d",
   "metadata": {},
   "outputs": [],
   "source": []
  },
  {
   "cell_type": "code",
   "execution_count": 310,
   "id": "f3abb564-306c-42e8-9323-047b219e93d8",
   "metadata": {},
   "outputs": [
    {
     "ename": "FileExistsError",
     "evalue": "[WinError 183] Cannot create a file when that file already exists: 'C:\\\\Users\\\\Pranali\\\\Desktop\\\\python\\\\new2.ipynb'",
     "output_type": "error",
     "traceback": [
      "\u001b[1;31m---------------------------------------------------------------------------\u001b[0m",
      "\u001b[1;31mFileExistsError\u001b[0m                           Traceback (most recent call last)",
      "Cell \u001b[1;32mIn[310], line 2\u001b[0m\n\u001b[0;32m      1\u001b[0m \u001b[38;5;66;03m# make directory\u001b[39;00m\n\u001b[1;32m----> 2\u001b[0m os\u001b[38;5;241m.\u001b[39mmkdir(\u001b[38;5;124mr\u001b[39m\u001b[38;5;124m'\u001b[39m\u001b[38;5;124mC:\u001b[39m\u001b[38;5;124m\\\u001b[39m\u001b[38;5;124mUsers\u001b[39m\u001b[38;5;124m\\\u001b[39m\u001b[38;5;124mPranali\u001b[39m\u001b[38;5;124m\\\u001b[39m\u001b[38;5;124mDesktop\u001b[39m\u001b[38;5;124m\\\u001b[39m\u001b[38;5;124mpython\u001b[39m\u001b[38;5;124m\\\u001b[39m\u001b[38;5;124mnew2.ipynb\u001b[39m\u001b[38;5;124m'\u001b[39m)\n",
      "\u001b[1;31mFileExistsError\u001b[0m: [WinError 183] Cannot create a file when that file already exists: 'C:\\\\Users\\\\Pranali\\\\Desktop\\\\python\\\\new2.ipynb'"
     ]
    }
   ],
   "source": [
    "# make directory\n",
    "os.mkdir(r'C:\\Users\\Pranali\\Desktop\\python\\new2.ipynb')"
   ]
  },
  {
   "cell_type": "code",
   "execution_count": null,
   "id": "033df33d-3617-4400-924d-2cb3ec7a53a0",
   "metadata": {},
   "outputs": [],
   "source": []
  },
  {
   "cell_type": "code",
   "execution_count": 82,
   "id": "e23c11d4-b2d2-4826-b6cb-22aa95905206",
   "metadata": {},
   "outputs": [
    {
     "ename": "FileNotFoundError",
     "evalue": "[WinError 2] The system cannot find the file specified: 'C:\\\\Users\\\\Pranali\\\\Desktop\\\\python/python-modules-and-packages/empty-directory.ipynb'",
     "output_type": "error",
     "traceback": [
      "\u001b[1;31m---------------------------------------------------------------------------\u001b[0m",
      "\u001b[1;31mFileNotFoundError\u001b[0m                         Traceback (most recent call last)",
      "Cell \u001b[1;32mIn[82], line 2\u001b[0m\n\u001b[0;32m      1\u001b[0m \u001b[38;5;66;03m# delet a empty directory\u001b[39;00m\n\u001b[1;32m----> 2\u001b[0m \u001b[38;5;28mprint\u001b[39m(os\u001b[38;5;241m.\u001b[39mremove(\u001b[38;5;124mr\u001b[39m\u001b[38;5;124m'\u001b[39m\u001b[38;5;124mC:\u001b[39m\u001b[38;5;124m\\\u001b[39m\u001b[38;5;124mUsers\u001b[39m\u001b[38;5;124m\\\u001b[39m\u001b[38;5;124mPranali\u001b[39m\u001b[38;5;124m\\\u001b[39m\u001b[38;5;124mDesktop\u001b[39m\u001b[38;5;124m\\\u001b[39m\u001b[38;5;124mpython/python-modules-and-packages/empty-directory.ipynb\u001b[39m\u001b[38;5;124m'\u001b[39m))\n",
      "\u001b[1;31mFileNotFoundError\u001b[0m: [WinError 2] The system cannot find the file specified: 'C:\\\\Users\\\\Pranali\\\\Desktop\\\\python/python-modules-and-packages/empty-directory.ipynb'"
     ]
    }
   ],
   "source": [
    "# delet a empty directory\n",
    "print(os.remove(r'C:\\Users\\Pranali\\Desktop\\python/python-modules-and-packages/empty-directory.ipynb'))"
   ]
  },
  {
   "cell_type": "markdown",
   "id": "3057dabb-3069-4f2e-8512-eb5201c3b501",
   "metadata": {},
   "source": [
    "# import datetime"
   ]
  },
  {
   "cell_type": "code",
   "execution_count": 292,
   "id": "a175193c-8171-4bc0-ad7b-b63167728ea9",
   "metadata": {},
   "outputs": [],
   "source": [
    "import datetime"
   ]
  },
  {
   "cell_type": "code",
   "execution_count": null,
   "id": "c9232263-826a-4c45-a27f-1e7f41423337",
   "metadata": {},
   "outputs": [],
   "source": []
  },
  {
   "cell_type": "code",
   "execution_count": 293,
   "id": "c19576b7-a586-43cc-9d9a-dba17f8ffc83",
   "metadata": {},
   "outputs": [
    {
     "name": "stdout",
     "output_type": "stream",
     "text": [
      "2025-06-13 10:27:10.793616\n"
     ]
    }
   ],
   "source": [
    "#check date and time\n",
    "datetime = datetime.datetime.now()\n",
    "print(datetime)"
   ]
  },
  {
   "cell_type": "code",
   "execution_count": 294,
   "id": "d744a759-3a54-42bd-a0dc-4bc2ad4065a9",
   "metadata": {},
   "outputs": [
    {
     "name": "stdout",
     "output_type": "stream",
     "text": [
      "10:27:10 06/13/25\n"
     ]
    }
   ],
   "source": [
    "print(datetime.strftime('%H:%M:%S %D'))"
   ]
  },
  {
   "cell_type": "code",
   "execution_count": 295,
   "id": "d293d1a0-1f6e-417e-bf82-60a08f11b8f4",
   "metadata": {},
   "outputs": [
    {
     "name": "stdout",
     "output_type": "stream",
     "text": [
      "2025-06-13 10:27:15.272135\n"
     ]
    }
   ],
   "source": [
    "print(datetime.today())"
   ]
  },
  {
   "cell_type": "markdown",
   "id": "c76ee601-15d3-43de-97f8-33feb985fc90",
   "metadata": {},
   "source": [
    "# import math"
   ]
  },
  {
   "cell_type": "code",
   "execution_count": 296,
   "id": "d574a37e-bd6a-4c0f-a6f1-c55469f9cb04",
   "metadata": {},
   "outputs": [],
   "source": [
    "import math"
   ]
  },
  {
   "cell_type": "code",
   "execution_count": null,
   "id": "8e79ca71-d2cd-4602-966c-c35367b0c8b9",
   "metadata": {},
   "outputs": [],
   "source": []
  },
  {
   "cell_type": "code",
   "execution_count": 102,
   "id": "547edf3d-961f-4b83-b586-968ee04d5ec0",
   "metadata": {},
   "outputs": [
    {
     "name": "stdout",
     "output_type": "stream",
     "text": [
      "120\n"
     ]
    }
   ],
   "source": [
    "# calculate factorial\n",
    "print(math.factorial(5))"
   ]
  },
  {
   "cell_type": "code",
   "execution_count": 312,
   "id": "f0a72eb1-1ee8-490c-bed4-6d0dd618f20f",
   "metadata": {},
   "outputs": [
    {
     "name": "stdout",
     "output_type": "stream",
     "text": [
      "4\n"
     ]
    }
   ],
   "source": [
    "#square root\n",
    "print(math.isqrt(16))"
   ]
  },
  {
   "cell_type": "code",
   "execution_count": 121,
   "id": "2c9614d7-c504-4152-924f-cd1f9bd03166",
   "metadata": {},
   "outputs": [],
   "source": [
    "#floating point arithmetic"
   ]
  },
  {
   "cell_type": "code",
   "execution_count": 129,
   "id": "6d5e7474-60f8-4a43-8717-8ef56bc8fd85",
   "metadata": {},
   "outputs": [
    {
     "name": "stdout",
     "output_type": "stream",
     "text": [
      "4\n"
     ]
    }
   ],
   "source": [
    "#ciel of x means (it gives roundoff number greater than input)\n",
    "print(math.ceil(3.1))"
   ]
  },
  {
   "cell_type": "code",
   "execution_count": 135,
   "id": "ac8eeb6f-a9b4-4533-b55f-432331a89a68",
   "metadata": {},
   "outputs": [
    {
     "name": "stdout",
     "output_type": "stream",
     "text": [
      "3\n"
     ]
    }
   ],
   "source": [
    "# floor of x (it gives roundoff number less than input)\n",
    "print(math.floor(3.9))"
   ]
  },
  {
   "cell_type": "code",
   "execution_count": 298,
   "id": "fa23578e-0b6f-4fe3-8cb4-9258109c9c4a",
   "metadata": {},
   "outputs": [
    {
     "name": "stdout",
     "output_type": "stream",
     "text": [
      "24.0\n"
     ]
    }
   ],
   "source": [
    "#sum\n",
    "print(math.fsum([5,4,5,5,5]))"
   ]
  },
  {
   "cell_type": "code",
   "execution_count": 153,
   "id": "0c1069b3-ca1e-490d-852d-0eb8ea94efac",
   "metadata": {},
   "outputs": [
    {
     "name": "stdout",
     "output_type": "stream",
     "text": [
      "0.479425538604203\n",
      "0.28366218546322625\n",
      "1.5574077246549023\n"
     ]
    }
   ],
   "source": [
    "# cos sin tan\n",
    "print(math.sin(1/2))\n",
    "print(math.cos(5))\n",
    "print(math.tan(1))"
   ]
  },
  {
   "cell_type": "code",
   "execution_count": 158,
   "id": "d2da0c10-fbfa-4b84-ba2c-c8916ccca668",
   "metadata": {},
   "outputs": [
    {
     "name": "stdout",
     "output_type": "stream",
     "text": [
      "3.141592653589793\n"
     ]
    }
   ],
   "source": [
    "print(math.pi)"
   ]
  },
  {
   "cell_type": "markdown",
   "id": "6c3aadc8-9749-4629-a359-c1fd3f8f8231",
   "metadata": {},
   "source": [
    "# import statistics"
   ]
  },
  {
   "cell_type": "code",
   "execution_count": 305,
   "id": "7fa16f44-d90b-4974-a87e-76afa7c6bb7a",
   "metadata": {},
   "outputs": [],
   "source": [
    "import statistics"
   ]
  },
  {
   "cell_type": "code",
   "execution_count": null,
   "id": "c1e43d46-0cec-46e2-a263-3e53ee5e2916",
   "metadata": {},
   "outputs": [],
   "source": []
  },
  {
   "cell_type": "code",
   "execution_count": 307,
   "id": "94fa4c61-e5b5-4303-a263-d60dbfbde380",
   "metadata": {},
   "outputs": [
    {
     "name": "stdout",
     "output_type": "stream",
     "text": [
      "4.5\n"
     ]
    }
   ],
   "source": [
    "#find mean (average)\n",
    "list =[1,2,3,4,5,6,7,8]\n",
    "print(statistics.mean(list))"
   ]
  },
  {
   "cell_type": "code",
   "execution_count": 166,
   "id": "0efce220-6c07-4b06-b7ba-0209800a14d2",
   "metadata": {},
   "outputs": [
    {
     "name": "stdout",
     "output_type": "stream",
     "text": [
      "4.5\n"
     ]
    }
   ],
   "source": [
    "# finding median \n",
    "print(statistics.median(list))"
   ]
  },
  {
   "cell_type": "markdown",
   "id": "afb7bee3-8782-4a47-b62d-f156f198317a",
   "metadata": {},
   "source": [
    "# import random"
   ]
  },
  {
   "cell_type": "code",
   "execution_count": 308,
   "id": "8dc28bcb-6ded-432b-b8b5-d3a4c0e6eb06",
   "metadata": {},
   "outputs": [],
   "source": [
    "import random"
   ]
  },
  {
   "cell_type": "code",
   "execution_count": null,
   "id": "755ecb44-9459-4a9d-89ff-0a494d702392",
   "metadata": {},
   "outputs": [],
   "source": []
  },
  {
   "cell_type": "code",
   "execution_count": 311,
   "id": "25612b7d-46ce-4446-aa83-93e6102079a1",
   "metadata": {},
   "outputs": [
    {
     "name": "stdout",
     "output_type": "stream",
     "text": [
      "11\n"
     ]
    }
   ],
   "source": [
    "# give a random integer in between the range give by user\n",
    "print(random.randint(2,11))"
   ]
  },
  {
   "cell_type": "code",
   "execution_count": 195,
   "id": "62701342-903d-4d4b-92fe-60fddefa62c4",
   "metadata": {},
   "outputs": [
    {
     "name": "stdout",
     "output_type": "stream",
     "text": [
      "[3, 2, 9, 8, 5, 7, 1, 6, 4]\n"
     ]
    }
   ],
   "source": [
    "# shuffle a input\n",
    "list = [1,2,3,4,5,6,7,8,9]\n",
    "random.shuffle(list)\n",
    "print(list)"
   ]
  },
  {
   "cell_type": "code",
   "execution_count": 317,
   "id": "bceef1f1-c3b2-4443-87fd-e9fee762a98e",
   "metadata": {},
   "outputs": [
    {
     "data": {
      "text/plain": [
       "5.024161729102176"
      ]
     },
     "execution_count": 317,
     "metadata": {},
     "output_type": "execute_result"
    }
   ],
   "source": [
    "#gives random floating point in range\n",
    "random.uniform(2,7)"
   ]
  },
  {
   "cell_type": "markdown",
   "id": "cea2e67a-5c3d-4fc1-b875-1429cebc99f3",
   "metadata": {},
   "source": [
    "# import numpy as np"
   ]
  },
  {
   "cell_type": "code",
   "execution_count": 12,
   "id": "02b0e61b-2108-43f8-afe9-49764f4f0e4e",
   "metadata": {},
   "outputs": [],
   "source": [
    "import numpy as np"
   ]
  },
  {
   "cell_type": "code",
   "execution_count": 3,
   "id": "e8cce3f0-3c44-4b27-ad61-5a979c62681c",
   "metadata": {},
   "outputs": [
    {
     "name": "stdout",
     "output_type": "stream",
     "text": [
      "[[1. 1. 1. 1.]\n",
      " [1. 1. 1. 1.]\n",
      " [1. 1. 1. 1.]]\n"
     ]
    }
   ],
   "source": [
    "print(np.ones((3,4)))"
   ]
  },
  {
   "cell_type": "code",
   "execution_count": 6,
   "id": "cabb4cd8-aea8-4e31-9094-5469740a47f3",
   "metadata": {},
   "outputs": [
    {
     "name": "stdout",
     "output_type": "stream",
     "text": [
      "[[1 2 3]\n",
      " [4 5 6]\n",
      " [7 8 9]]\n"
     ]
    }
   ],
   "source": [
    "# multi dimensional array\n",
    "print(np.array([[1,2,3],[4,5,6],[7,8,9]]))"
   ]
  },
  {
   "cell_type": "code",
   "execution_count": 21,
   "id": "4c1c1e7c-f709-4c6b-81da-92142f6931bf",
   "metadata": {},
   "outputs": [
    {
     "name": "stdout",
     "output_type": "stream",
     "text": [
      "[[0. 0. 0.]\n",
      " [0. 0. 0.]]\n",
      "[[1. 1. 1.]\n",
      " [1. 1. 1.]]\n"
     ]
    }
   ],
   "source": [
    "# use for intializing\n",
    "print(np.zeros((2,3)))\n",
    "print(np.ones((2,3)))"
   ]
  },
  {
   "cell_type": "code",
   "execution_count": null,
   "id": "8e0826ee-fca1-4203-aea4-066bc7cf6c27",
   "metadata": {},
   "outputs": [],
   "source": []
  },
  {
   "cell_type": "code",
   "execution_count": 19,
   "id": "360db660-c8bd-44a0-afaa-452e03099f76",
   "metadata": {},
   "outputs": [
    {
     "name": "stdout",
     "output_type": "stream",
     "text": [
      "[ 0  1  2  3  4  5  6  7  8  9 10 11]\n",
      "[[ 0  1  2]\n",
      " [ 3  4  5]\n",
      " [ 6  7  8]\n",
      " [ 9 10 11]]\n"
     ]
    }
   ],
   "source": [
    "# converting 1d array to any dimention\n",
    "list1 = [1,2,3,4,5,6,7,8,9]\n",
    "arr = np.arange(12)\n",
    "print(arr)\n",
    "print(arr.reshape((4,3)))"
   ]
  },
  {
   "cell_type": "code",
   "execution_count": 47,
   "id": "19f79a19-62a9-41e0-8110-3826e30a698e",
   "metadata": {},
   "outputs": [
    {
     "name": "stdout",
     "output_type": "stream",
     "text": [
      "[[1 2 3]\n",
      " [4 5 6]]\n",
      "[[1 4]\n",
      " [2 5]\n",
      " [3 6]]\n"
     ]
    }
   ],
   "source": [
    "# used for switch rows and columns - transpose (.T)\n",
    "arr = np.array([[1,2,3],[4,5,6]])\n",
    "print(arr)\n",
    "print(arr.T)"
   ]
  },
  {
   "cell_type": "code",
   "execution_count": 51,
   "id": "ac3eb6b1-3130-4bde-ad15-f53b77a17225",
   "metadata": {},
   "outputs": [
    {
     "name": "stdout",
     "output_type": "stream",
     "text": [
      "[[1 2 3 4]\n",
      " [5 6 7 8]]\n",
      "36\n",
      "4.5\n",
      "2.29128784747792\n"
     ]
    }
   ],
   "source": [
    "# finding total , average and veriablity\n",
    "arr = np.array([[1,2,3,4],[5,6,7,8]])\n",
    "print(arr) \n",
    "\n",
    "print(arr.sum())\n",
    "print(arr.mean())\n",
    "print(arr.std())"
   ]
  },
  {
   "cell_type": "code",
   "execution_count": 63,
   "id": "d7267284-9b35-42f4-8c8c-58ba9291e1d4",
   "metadata": {},
   "outputs": [
    {
     "name": "stdout",
     "output_type": "stream",
     "text": [
      "33\n"
     ]
    }
   ],
   "source": [
    "# multiply two array - in below example - 1*4, 2*2, 3*3, 4*4\n",
    "x = np.array([1,2,3,4])\n",
    "y = np.array([4,2,3,4])\n",
    "print(np.dot(x,y))\n"
   ]
  },
  {
   "cell_type": "code",
   "execution_count": 67,
   "id": "078ebf8a-3abe-4f2b-bead-fa612afde9f9",
   "metadata": {},
   "outputs": [
    {
     "name": "stdout",
     "output_type": "stream",
     "text": [
      "[[22 17]\n",
      " [67 56]]\n"
     ]
    }
   ],
   "source": [
    "# multiplication of 2d array\n",
    "x = np.array([[1,2],[4,5]])\n",
    "y = np.array([[8,9],[7,4]])\n",
    "\n",
    "print(np.dot(x,y))"
   ]
  },
  {
   "cell_type": "code",
   "execution_count": 69,
   "id": "40395145-6e9d-47b8-a390-8c3bc470a28c",
   "metadata": {},
   "outputs": [
    {
     "name": "stdout",
     "output_type": "stream",
     "text": [
      "[[0.79827216 0.84663422 0.98423832]\n",
      " [0.4627703  0.26199101 0.85938089]\n",
      " [0.12553564 0.36392813 0.38887752]]\n"
     ]
    }
   ],
   "source": [
    "#generate random data\n",
    "random = np.random.random((3,3))\n",
    "print(random)"
   ]
  },
  {
   "cell_type": "code",
   "execution_count": 70,
   "id": "899e69e9-1504-43b5-b2fe-65d0824aab40",
   "metadata": {},
   "outputs": [
    {
     "name": "stdout",
     "output_type": "stream",
     "text": [
      "[[0.10180983 0.15626109]\n",
      " [0.09327728 0.99823616]]\n"
     ]
    }
   ],
   "source": [
    "print(np.random.random((2,2)))"
   ]
  },
  {
   "cell_type": "code",
   "execution_count": 271,
   "id": "37ee1dce-13b8-428f-9362-8afb8214e7bd",
   "metadata": {},
   "outputs": [
    {
     "name": "stdout",
     "output_type": "stream",
     "text": [
      "[[ 0.8 -0.6]\n",
      " [-0.2  0.4]]\n"
     ]
    }
   ],
   "source": [
    "from numpy.linalg import inv\n",
    "A = np.array([[2., 3.], [1., 4.]])\n",
    "print(inv(A))"
   ]
  },
  {
   "cell_type": "markdown",
   "id": "f36c2d97-94d3-4f80-b697-f7f74841481f",
   "metadata": {},
   "source": [
    "### examples on Numpy"
   ]
  },
  {
   "cell_type": "code",
   "execution_count": 304,
   "id": "fefdd0db-85a4-4c03-b3e3-ba691e3c491f",
   "metadata": {},
   "outputs": [
    {
     "name": "stdout",
     "output_type": "stream",
     "text": [
      "[[0.66166392 0.40586165 0.92260786 0.98965377 0.36375447]\n",
      " [0.33962091 0.48699208 0.79424635 0.3340494  0.20040733]\n",
      " [0.39383267 0.9206647  0.7404574  0.82299282 0.26163546]\n",
      " [0.14579954 0.14449891 0.9929699  0.62014347 0.04776126]]\n"
     ]
    }
   ],
   "source": [
    "# exmples------------------------------------------------------------------------------\n",
    "#Generate a 4×5 matrix of random numbers Print the shape, mean, and standard deviation\n",
    "random = np.random.random((4,5))\n",
    "print(random)"
   ]
  },
  {
   "cell_type": "code",
   "execution_count": 283,
   "id": "a29297c5-eac9-4cdd-90fe-859d8d057457",
   "metadata": {},
   "outputs": [
    {
     "name": "stdout",
     "output_type": "stream",
     "text": [
      "(4, 5)\n",
      "0.4893641929817575\n",
      "0.30808565909902397\n"
     ]
    }
   ],
   "source": [
    "print(np.shape(random))\n",
    "print(np.mean(random))\n",
    "print(np.std(random))"
   ]
  },
  {
   "cell_type": "code",
   "execution_count": 292,
   "id": "32f8145f-9070-4d17-8e0b-a3d7d66cb090",
   "metadata": {},
   "outputs": [
    {
     "name": "stdout",
     "output_type": "stream",
     "text": [
      "[ 1  2  3  4  5  6  7  8  9 10 11 12]\n",
      "[[ 1  2  3  4]\n",
      " [ 5  6  7  8]\n",
      " [ 9 10 11 12]]\n"
     ]
    }
   ],
   "source": [
    "# create 1D array and make it 3*4 array (reshape)\n",
    "random = np.arange(1,13)\n",
    "print(random)\n",
    "print(random.reshape(3,4))"
   ]
  },
  {
   "cell_type": "code",
   "execution_count": 318,
   "id": "c6656e8c-6b74-42f3-a250-fd535442ab73",
   "metadata": {},
   "outputs": [
    {
     "name": "stdout",
     "output_type": "stream",
     "text": [
      "450\n",
      "[20. 50. 80.]\n",
      "[8.16496581 8.16496581 8.16496581]\n"
     ]
    }
   ],
   "source": [
    "#total sum of all elements \n",
    "#Mean of each column\n",
    "#Standard deviation of each row\n",
    "A = np.array([[10, 20, 30],\n",
    "              [40, 50, 60],\n",
    "              [70, 80, 90]])\n",
    "print(A.sum())\n",
    "print(A.mean(axis=1))\n",
    "print(A.std(axis=1))"
   ]
  },
  {
   "cell_type": "code",
   "execution_count": 1,
   "id": "112d707a-30c8-4d65-80e8-097959cada28",
   "metadata": {},
   "outputs": [],
   "source": [
    "## heading"
   ]
  },
  {
   "cell_type": "markdown",
   "id": "f9b5ba3d-0a53-4fa7-8049-ad78102f62f4",
   "metadata": {},
   "source": [
    "# import pandas"
   ]
  },
  {
   "cell_type": "code",
   "execution_count": 75,
   "id": "09326d8b-075c-4eb5-9b85-f8869c636c31",
   "metadata": {},
   "outputs": [],
   "source": [
    "import pandas as pd"
   ]
  },
  {
   "cell_type": "code",
   "execution_count": 191,
   "id": "9dbafb7b-36e4-4225-a328-b345c829d754",
   "metadata": {},
   "outputs": [],
   "source": [
    "# it shows .csv file into data frame\n",
    "data = pd.read_csv('data.csv')"
   ]
  },
  {
   "cell_type": "code",
   "execution_count": 192,
   "id": "9ce48e87-c18a-4890-9132-323cd1763285",
   "metadata": {},
   "outputs": [
    {
     "name": "stdout",
     "output_type": "stream",
     "text": [
      "   EmployeeID     Name  Age Department  Salary  StartDate social\n",
      "0           1    Alice   29         HR   50000  1/15/2020      t\n",
      "1           2      Bob   35         IT   65000  7/22/2019      t\n",
      "2           3  Charlie   32    Finance   60000  12/1/2018      t\n",
      "3           4    David   28         IT   50000  3/10/2021      t\n",
      "4           5      Eva   28         HR   52000  6/25/2020      t\n",
      "5           6    Frank   40    Finance   80000  9/13/2017      t\n"
     ]
    }
   ],
   "source": [
    "print(data)"
   ]
  },
  {
   "cell_type": "code",
   "execution_count": 193,
   "id": "70716147-d2e7-4358-9ef8-35ffc17a82ed",
   "metadata": {},
   "outputs": [
    {
     "name": "stdout",
     "output_type": "stream",
     "text": [
      "   EmployeeID     Name  Age Department  Salary  StartDate social\n",
      "0           1    Alice   29         HR   50000  1/15/2020      t\n",
      "1           2      Bob   35         IT   65000  7/22/2019      t\n",
      "2           3  Charlie   32    Finance   60000  12/1/2018      t\n"
     ]
    }
   ],
   "source": [
    "# access to first 3 rows\n",
    "print(data.head(3))"
   ]
  },
  {
   "cell_type": "code",
   "execution_count": 194,
   "id": "c78a3ff4-5a62-450d-8a5a-e3b339e387fc",
   "metadata": {},
   "outputs": [
    {
     "name": "stdout",
     "output_type": "stream",
     "text": [
      "   EmployeeID   Name  Age Department  Salary  StartDate social\n",
      "4           5    Eva   28         HR   52000  6/25/2020      t\n",
      "5           6  Frank   40    Finance   80000  9/13/2017      t\n"
     ]
    }
   ],
   "source": [
    "# access to last 2 rows\n",
    "print(data.tail(2))"
   ]
  },
  {
   "cell_type": "code",
   "execution_count": 195,
   "id": "2f3bede9-d147-49e0-8475-da9ade6d3bc3",
   "metadata": {},
   "outputs": [
    {
     "name": "stdout",
     "output_type": "stream",
     "text": [
      "<class 'pandas.core.frame.DataFrame'>\n",
      "RangeIndex: 6 entries, 0 to 5\n",
      "Data columns (total 7 columns):\n",
      " #   Column      Non-Null Count  Dtype \n",
      "---  ------      --------------  ----- \n",
      " 0   EmployeeID  6 non-null      int64 \n",
      " 1   Name        6 non-null      object\n",
      " 2   Age         6 non-null      int64 \n",
      " 3   Department  6 non-null      object\n",
      " 4   Salary      6 non-null      int64 \n",
      " 5   StartDate   6 non-null      object\n",
      " 6   social      6 non-null      object\n",
      "dtypes: int64(3), object(4)\n",
      "memory usage: 468.0+ bytes\n",
      "None\n"
     ]
    }
   ],
   "source": [
    "#inspect info\n",
    "print(data.info())"
   ]
  },
  {
   "cell_type": "code",
   "execution_count": 196,
   "id": "0d0e42bc-f3f9-4916-8377-e592c16afdd5",
   "metadata": {},
   "outputs": [
    {
     "name": "stdout",
     "output_type": "stream",
     "text": [
      "(6, 7)\n"
     ]
    }
   ],
   "source": [
    "# data size\n",
    "print(data.shape)"
   ]
  },
  {
   "cell_type": "code",
   "execution_count": 197,
   "id": "8e92fa46-182e-4b70-adee-c0e6b020638a",
   "metadata": {},
   "outputs": [
    {
     "name": "stdout",
     "output_type": "stream",
     "text": [
      "       EmployeeID        Age      Salary\n",
      "count    6.000000   6.000000      6.0000\n",
      "mean     3.500000  32.000000  59500.0000\n",
      "std      1.870829   4.774935  11726.0394\n",
      "min      1.000000  28.000000  50000.0000\n",
      "25%      2.250000  28.250000  50500.0000\n",
      "50%      3.500000  30.500000  56000.0000\n",
      "75%      4.750000  34.250000  63750.0000\n",
      "max      6.000000  40.000000  80000.0000\n"
     ]
    }
   ],
   "source": [
    "# describe data\n",
    "print(data.describe())"
   ]
  },
  {
   "cell_type": "code",
   "execution_count": 198,
   "id": "5c96d1b5-e7d5-438d-8b09-213907afb73d",
   "metadata": {},
   "outputs": [
    {
     "name": "stdout",
     "output_type": "stream",
     "text": [
      "      Name  StartDate  Salary\n",
      "0    Alice  1/15/2020   50000\n",
      "1      Bob  7/22/2019   65000\n",
      "2  Charlie  12/1/2018   60000\n",
      "3    David  3/10/2021   50000\n",
      "4      Eva  6/25/2020   52000\n",
      "5    Frank  9/13/2017   80000\n"
     ]
    }
   ],
   "source": [
    "#access perticular data from csv file\n",
    "david = data.loc[0:,['Name','StartDate','Salary']]\n",
    "print(david)"
   ]
  },
  {
   "cell_type": "code",
   "execution_count": 201,
   "id": "75752c2b-36fa-4a7e-ba98-540a84d88c9c",
   "metadata": {},
   "outputs": [
    {
     "name": "stdout",
     "output_type": "stream",
     "text": [
      "   EmployeeID   Name  Age Department  Salary  StartDate social\n",
      "0           1  Alice   29         HR   50000  1/15/2020      t\n",
      "1           2    Bob   35         IT   65000  7/22/2019      t\n"
     ]
    }
   ],
   "source": [
    "# acccess data from row and column\n",
    "print(data.iloc[0:2,0:])"
   ]
  },
  {
   "cell_type": "code",
   "execution_count": 214,
   "id": "0008e2af-0928-4987-92c8-7ffc63e2fe33",
   "metadata": {},
   "outputs": [
    {
     "name": "stdout",
     "output_type": "stream",
     "text": [
      "   EmployeeID     Name  Age Department  Salary  StartDate\n",
      "0           1    Alice   29         HR   50000  1/15/2020\n",
      "1           2      Bob   35         IT   65000  7/22/2019\n",
      "2           3  Charlie   32    Finance   60000  12/1/2018\n",
      "3           4    David   28         IT   50000  3/10/2021\n",
      "4           5      Eva   28         HR   52000  6/25/2020\n",
      "5           6    Frank   40    Finance   80000  9/13/2017\n"
     ]
    }
   ],
   "source": [
    "# drop column (removes) -  it doesn't change in original data it create modified in separate variable \n",
    "drop = data.drop('social', axis=1)\n",
    "print(drop)"
   ]
  },
  {
   "cell_type": "code",
   "execution_count": null,
   "id": "6f57919b-0438-4d48-8642-c0483811b965",
   "metadata": {},
   "outputs": [],
   "source": []
  },
  {
   "cell_type": "code",
   "execution_count": 243,
   "id": "4faa3c1b-3fe2-4cc5-b644-8d356b449d86",
   "metadata": {},
   "outputs": [],
   "source": [
    "data =pd.read_csv('data.csv')"
   ]
  },
  {
   "cell_type": "code",
   "execution_count": 240,
   "id": "57a9d418-5553-402d-be26-048e2cce5bcf",
   "metadata": {},
   "outputs": [],
   "source": [
    "#data['Salary'].fillna(data['Salary'].mean(),inplace=True)"
   ]
  },
  {
   "cell_type": "code",
   "execution_count": 244,
   "id": "90604266-1924-4ac9-98e6-e45337d5576f",
   "metadata": {},
   "outputs": [
    {
     "data": {
      "text/html": [
       "<div>\n",
       "<style scoped>\n",
       "    .dataframe tbody tr th:only-of-type {\n",
       "        vertical-align: middle;\n",
       "    }\n",
       "\n",
       "    .dataframe tbody tr th {\n",
       "        vertical-align: top;\n",
       "    }\n",
       "\n",
       "    .dataframe thead th {\n",
       "        text-align: right;\n",
       "    }\n",
       "</style>\n",
       "<table border=\"1\" class=\"dataframe\">\n",
       "  <thead>\n",
       "    <tr style=\"text-align: right;\">\n",
       "      <th></th>\n",
       "      <th>EmployeeID</th>\n",
       "      <th>Name</th>\n",
       "      <th>Age</th>\n",
       "      <th>Department</th>\n",
       "      <th>Salary</th>\n",
       "      <th>StartDate</th>\n",
       "      <th>social</th>\n",
       "    </tr>\n",
       "  </thead>\n",
       "  <tbody>\n",
       "    <tr>\n",
       "      <th>0</th>\n",
       "      <td>1</td>\n",
       "      <td>Alice</td>\n",
       "      <td>29</td>\n",
       "      <td>HR</td>\n",
       "      <td>50000.0</td>\n",
       "      <td>1/15/2020</td>\n",
       "      <td>t</td>\n",
       "    </tr>\n",
       "    <tr>\n",
       "      <th>1</th>\n",
       "      <td>2</td>\n",
       "      <td>Bob</td>\n",
       "      <td>35</td>\n",
       "      <td>IT</td>\n",
       "      <td>65000.0</td>\n",
       "      <td>7/22/2019</td>\n",
       "      <td>t</td>\n",
       "    </tr>\n",
       "    <tr>\n",
       "      <th>2</th>\n",
       "      <td>3</td>\n",
       "      <td>Charlie</td>\n",
       "      <td>32</td>\n",
       "      <td>Finance</td>\n",
       "      <td>60000.0</td>\n",
       "      <td>12/1/2018</td>\n",
       "      <td>t</td>\n",
       "    </tr>\n",
       "    <tr>\n",
       "      <th>3</th>\n",
       "      <td>4</td>\n",
       "      <td>David</td>\n",
       "      <td>28</td>\n",
       "      <td>IT</td>\n",
       "      <td>50000.0</td>\n",
       "      <td>3/10/2021</td>\n",
       "      <td>t</td>\n",
       "    </tr>\n",
       "    <tr>\n",
       "      <th>4</th>\n",
       "      <td>5</td>\n",
       "      <td>Eva</td>\n",
       "      <td>28</td>\n",
       "      <td>HR</td>\n",
       "      <td>52000.0</td>\n",
       "      <td>6/25/2020</td>\n",
       "      <td>t</td>\n",
       "    </tr>\n",
       "    <tr>\n",
       "      <th>5</th>\n",
       "      <td>6</td>\n",
       "      <td>Frank</td>\n",
       "      <td>40</td>\n",
       "      <td>Finance</td>\n",
       "      <td>80000.0</td>\n",
       "      <td>9/13/2017</td>\n",
       "      <td>t</td>\n",
       "    </tr>\n",
       "    <tr>\n",
       "      <th>6</th>\n",
       "      <td>7</td>\n",
       "      <td>Nil</td>\n",
       "      <td>23</td>\n",
       "      <td>IT</td>\n",
       "      <td>NaN</td>\n",
       "      <td>1/20/2025</td>\n",
       "      <td>t</td>\n",
       "    </tr>\n",
       "  </tbody>\n",
       "</table>\n",
       "</div>"
      ],
      "text/plain": [
       "   EmployeeID     Name  Age Department   Salary  StartDate social\n",
       "0           1    Alice   29         HR  50000.0  1/15/2020      t\n",
       "1           2      Bob   35         IT  65000.0  7/22/2019      t\n",
       "2           3  Charlie   32    Finance  60000.0  12/1/2018      t\n",
       "3           4    David   28         IT  50000.0  3/10/2021      t\n",
       "4           5      Eva   28         HR  52000.0  6/25/2020      t\n",
       "5           6    Frank   40    Finance  80000.0  9/13/2017      t\n",
       "6           7      Nil   23         IT      NaN  1/20/2025      t"
      ]
     },
     "execution_count": 244,
     "metadata": {},
     "output_type": "execute_result"
    }
   ],
   "source": [
    "data"
   ]
  },
  {
   "cell_type": "code",
   "execution_count": 258,
   "id": "b66d8e21-cb57-476f-a66e-6f203afb43d4",
   "metadata": {},
   "outputs": [],
   "source": [
    "# it fills empty values - fillna(value,inplace = True)\n",
    "data['Salary'].fillna(2000,inplace = True)"
   ]
  },
  {
   "cell_type": "code",
   "execution_count": 259,
   "id": "29ec416d-1552-4c27-8be0-fd33aa6e9a58",
   "metadata": {},
   "outputs": [
    {
     "data": {
      "text/html": [
       "<div>\n",
       "<style scoped>\n",
       "    .dataframe tbody tr th:only-of-type {\n",
       "        vertical-align: middle;\n",
       "    }\n",
       "\n",
       "    .dataframe tbody tr th {\n",
       "        vertical-align: top;\n",
       "    }\n",
       "\n",
       "    .dataframe thead th {\n",
       "        text-align: right;\n",
       "    }\n",
       "</style>\n",
       "<table border=\"1\" class=\"dataframe\">\n",
       "  <thead>\n",
       "    <tr style=\"text-align: right;\">\n",
       "      <th></th>\n",
       "      <th>EmployeeID</th>\n",
       "      <th>Name</th>\n",
       "      <th>Age</th>\n",
       "      <th>Department</th>\n",
       "      <th>Salary</th>\n",
       "      <th>StartDate</th>\n",
       "      <th>social</th>\n",
       "    </tr>\n",
       "  </thead>\n",
       "  <tbody>\n",
       "    <tr>\n",
       "      <th>0</th>\n",
       "      <td>1</td>\n",
       "      <td>Alice</td>\n",
       "      <td>29</td>\n",
       "      <td>HR</td>\n",
       "      <td>50000.0</td>\n",
       "      <td>1/15/2020</td>\n",
       "      <td>t</td>\n",
       "    </tr>\n",
       "    <tr>\n",
       "      <th>1</th>\n",
       "      <td>2</td>\n",
       "      <td>Bob</td>\n",
       "      <td>35</td>\n",
       "      <td>IT</td>\n",
       "      <td>65000.0</td>\n",
       "      <td>7/22/2019</td>\n",
       "      <td>t</td>\n",
       "    </tr>\n",
       "    <tr>\n",
       "      <th>2</th>\n",
       "      <td>3</td>\n",
       "      <td>Charlie</td>\n",
       "      <td>32</td>\n",
       "      <td>Finance</td>\n",
       "      <td>60000.0</td>\n",
       "      <td>12/1/2018</td>\n",
       "      <td>t</td>\n",
       "    </tr>\n",
       "    <tr>\n",
       "      <th>3</th>\n",
       "      <td>4</td>\n",
       "      <td>David</td>\n",
       "      <td>28</td>\n",
       "      <td>IT</td>\n",
       "      <td>50000.0</td>\n",
       "      <td>3/10/2021</td>\n",
       "      <td>t</td>\n",
       "    </tr>\n",
       "    <tr>\n",
       "      <th>4</th>\n",
       "      <td>5</td>\n",
       "      <td>Eva</td>\n",
       "      <td>28</td>\n",
       "      <td>HR</td>\n",
       "      <td>52000.0</td>\n",
       "      <td>6/25/2020</td>\n",
       "      <td>t</td>\n",
       "    </tr>\n",
       "    <tr>\n",
       "      <th>5</th>\n",
       "      <td>6</td>\n",
       "      <td>Frank</td>\n",
       "      <td>40</td>\n",
       "      <td>Finance</td>\n",
       "      <td>80000.0</td>\n",
       "      <td>9/13/2017</td>\n",
       "      <td>t</td>\n",
       "    </tr>\n",
       "    <tr>\n",
       "      <th>6</th>\n",
       "      <td>7</td>\n",
       "      <td>Nil</td>\n",
       "      <td>23</td>\n",
       "      <td>IT</td>\n",
       "      <td>2000.0</td>\n",
       "      <td>1/20/2025</td>\n",
       "      <td>t</td>\n",
       "    </tr>\n",
       "  </tbody>\n",
       "</table>\n",
       "</div>"
      ],
      "text/plain": [
       "   EmployeeID     Name  Age Department   Salary  StartDate social\n",
       "0           1    Alice   29         HR  50000.0  1/15/2020      t\n",
       "1           2      Bob   35         IT  65000.0  7/22/2019      t\n",
       "2           3  Charlie   32    Finance  60000.0  12/1/2018      t\n",
       "3           4    David   28         IT  50000.0  3/10/2021      t\n",
       "4           5      Eva   28         HR  52000.0  6/25/2020      t\n",
       "5           6    Frank   40    Finance  80000.0  9/13/2017      t\n",
       "6           7      Nil   23         IT   2000.0  1/20/2025      t"
      ]
     },
     "execution_count": 259,
     "metadata": {},
     "output_type": "execute_result"
    }
   ],
   "source": [
    "data"
   ]
  },
  {
   "cell_type": "code",
   "execution_count": 269,
   "id": "090fc5a8-3422-4fe4-a390-4a30831c5ffb",
   "metadata": {},
   "outputs": [
    {
     "data": {
      "text/plain": [
       "Department\n",
       "IT         3\n",
       "HR         2\n",
       "Finance    2\n",
       "Name: count, dtype: int64"
      ]
     },
     "execution_count": 269,
     "metadata": {},
     "output_type": "execute_result"
    }
   ],
   "source": [
    "# count numbers on each department\n",
    "data['Department'].value_counts()"
   ]
  },
  {
   "cell_type": "code",
   "execution_count": 274,
   "id": "0b707a56-082b-4a33-9e39-f40845f6aa04",
   "metadata": {},
   "outputs": [
    {
     "data": {
      "text/plain": [
       "Salary\n",
       "50000.0    2\n",
       "65000.0    1\n",
       "60000.0    1\n",
       "52000.0    1\n",
       "80000.0    1\n",
       "2000.0     1\n",
       "Name: count, dtype: int64"
      ]
     },
     "execution_count": 274,
     "metadata": {},
     "output_type": "execute_result"
    }
   ],
   "source": [
    "data['Salary'].value_counts()"
   ]
  },
  {
   "cell_type": "code",
   "execution_count": 284,
   "id": "2b32bce9-a779-4536-acc2-04b705dbe41e",
   "metadata": {},
   "outputs": [
    {
     "data": {
      "text/plain": [
       "Department\n",
       "Finance    70000.0\n",
       "HR         51000.0\n",
       "IT         39000.0\n",
       "Name: Salary, dtype: float64"
      ]
     },
     "execution_count": 284,
     "metadata": {},
     "output_type": "execute_result"
    }
   ],
   "source": [
    "# show group and aggregate - (it shows average salary of each department)\n",
    "data.groupby('Department')['Salary'].mean()\n"
   ]
  },
  {
   "cell_type": "code",
   "execution_count": 290,
   "id": "c8fdcee5-8bd5-47a9-9f0d-7655f2c8fdbe",
   "metadata": {},
   "outputs": [
    {
     "data": {
      "text/html": [
       "<div>\n",
       "<style scoped>\n",
       "    .dataframe tbody tr th:only-of-type {\n",
       "        vertical-align: middle;\n",
       "    }\n",
       "\n",
       "    .dataframe tbody tr th {\n",
       "        vertical-align: top;\n",
       "    }\n",
       "\n",
       "    .dataframe thead th {\n",
       "        text-align: right;\n",
       "    }\n",
       "</style>\n",
       "<table border=\"1\" class=\"dataframe\">\n",
       "  <thead>\n",
       "    <tr style=\"text-align: right;\">\n",
       "      <th></th>\n",
       "      <th>EmployeeID</th>\n",
       "      <th>Name</th>\n",
       "      <th>Age</th>\n",
       "      <th>Department</th>\n",
       "      <th>Salary</th>\n",
       "      <th>StartDate</th>\n",
       "      <th>social</th>\n",
       "    </tr>\n",
       "  </thead>\n",
       "  <tbody>\n",
       "    <tr>\n",
       "      <th>6</th>\n",
       "      <td>7</td>\n",
       "      <td>Nil</td>\n",
       "      <td>23</td>\n",
       "      <td>IT</td>\n",
       "      <td>2000.0</td>\n",
       "      <td>1/20/2025</td>\n",
       "      <td>t</td>\n",
       "    </tr>\n",
       "    <tr>\n",
       "      <th>0</th>\n",
       "      <td>1</td>\n",
       "      <td>Alice</td>\n",
       "      <td>29</td>\n",
       "      <td>HR</td>\n",
       "      <td>50000.0</td>\n",
       "      <td>1/15/2020</td>\n",
       "      <td>t</td>\n",
       "    </tr>\n",
       "    <tr>\n",
       "      <th>3</th>\n",
       "      <td>4</td>\n",
       "      <td>David</td>\n",
       "      <td>28</td>\n",
       "      <td>IT</td>\n",
       "      <td>50000.0</td>\n",
       "      <td>3/10/2021</td>\n",
       "      <td>t</td>\n",
       "    </tr>\n",
       "    <tr>\n",
       "      <th>4</th>\n",
       "      <td>5</td>\n",
       "      <td>Eva</td>\n",
       "      <td>28</td>\n",
       "      <td>HR</td>\n",
       "      <td>52000.0</td>\n",
       "      <td>6/25/2020</td>\n",
       "      <td>t</td>\n",
       "    </tr>\n",
       "    <tr>\n",
       "      <th>2</th>\n",
       "      <td>3</td>\n",
       "      <td>Charlie</td>\n",
       "      <td>32</td>\n",
       "      <td>Finance</td>\n",
       "      <td>60000.0</td>\n",
       "      <td>12/1/2018</td>\n",
       "      <td>t</td>\n",
       "    </tr>\n",
       "    <tr>\n",
       "      <th>1</th>\n",
       "      <td>2</td>\n",
       "      <td>Bob</td>\n",
       "      <td>35</td>\n",
       "      <td>IT</td>\n",
       "      <td>65000.0</td>\n",
       "      <td>7/22/2019</td>\n",
       "      <td>t</td>\n",
       "    </tr>\n",
       "    <tr>\n",
       "      <th>5</th>\n",
       "      <td>6</td>\n",
       "      <td>Frank</td>\n",
       "      <td>40</td>\n",
       "      <td>Finance</td>\n",
       "      <td>80000.0</td>\n",
       "      <td>9/13/2017</td>\n",
       "      <td>t</td>\n",
       "    </tr>\n",
       "  </tbody>\n",
       "</table>\n",
       "</div>"
      ],
      "text/plain": [
       "   EmployeeID     Name  Age Department   Salary  StartDate social\n",
       "6           7      Nil   23         IT   2000.0  1/20/2025      t\n",
       "0           1    Alice   29         HR  50000.0  1/15/2020      t\n",
       "3           4    David   28         IT  50000.0  3/10/2021      t\n",
       "4           5      Eva   28         HR  52000.0  6/25/2020      t\n",
       "2           3  Charlie   32    Finance  60000.0  12/1/2018      t\n",
       "1           2      Bob   35         IT  65000.0  7/22/2019      t\n",
       "5           6    Frank   40    Finance  80000.0  9/13/2017      t"
      ]
     },
     "execution_count": 290,
     "metadata": {},
     "output_type": "execute_result"
    }
   ],
   "source": [
    "# sort a data with salary - (it gives values according to salary like below)\n",
    "data.sort_values('Salary')"
   ]
  },
  {
   "cell_type": "code",
   "execution_count": null,
   "id": "65f3d391-fa48-425b-a41a-dda71051ed67",
   "metadata": {},
   "outputs": [],
   "source": []
  }
 ],
 "metadata": {
  "kernelspec": {
   "display_name": "Python [conda env:base] *",
   "language": "python",
   "name": "conda-base-py"
  },
  "language_info": {
   "codemirror_mode": {
    "name": "ipython",
    "version": 3
   },
   "file_extension": ".py",
   "mimetype": "text/x-python",
   "name": "python",
   "nbconvert_exporter": "python",
   "pygments_lexer": "ipython3",
   "version": "3.12.7"
  }
 },
 "nbformat": 4,
 "nbformat_minor": 5
}
